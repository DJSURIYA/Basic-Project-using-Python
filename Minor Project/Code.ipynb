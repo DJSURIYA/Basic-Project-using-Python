{
 "cells": [
  {
   "cell_type": "code",
   "execution_count": 9,
   "id": "f2dd9c88",
   "metadata": {},
   "outputs": [
    {
     "name": "stdout",
     "output_type": "stream",
     "text": [
      "The number of unique words in the text file is 59508.\n",
      "Total number of words in file: 901325\n"
     ]
    }
   ],
   "source": [
    "import json\n",
    "import re\n",
    "with open('t8.shakespeare.txt', 'r') as file:\n",
    "    file_contents = file.read()\n",
    "with open('t8.shakespeare.txt', 'r') as file:\n",
    "    file_contents = file.read()\n",
    "words = file_contents.lower().split()\n",
    "unique_words = set(words)\n",
    "num_unique_words = len(unique_words)\n",
    "print(f'The number of unique words in the text file is {num_unique_words}.')\n",
    "with open('t8.shakespeare.txt', 'r') as file:\n",
    "    contents = file.read()\n",
    "    words = contents.split()\n",
    "    num_words = len(words)\n",
    "\n",
    "    print(f'Total number of words in file: {num_words}')"
   ]
  },
  {
   "cell_type": "code",
   "execution_count": 10,
   "id": "89c3f5a8",
   "metadata": {},
   "outputs": [
    {
     "name": "stdout",
     "output_type": "stream",
     "text": [
      "Word counts saved to word_counts.json.\n"
     ]
    }
   ],
   "source": [
    "# convert the string to lowercase and split into individual words\n",
    "words = file_contents.lower().split()\n",
    "# create a dictionary of word counts\n",
    "word_counts = {}\n",
    "for word in words:\n",
    "    if word in word_counts:\n",
    "        word_counts[word] += 1\n",
    "    else:\n",
    "        word_counts[word] = 1\n",
    "with open('word_counts.json', 'w') as file:\n",
    "    json.dump(word_counts, file)\n",
    "print('Word counts saved to word_counts.json.')"
   ]
  },
  {
   "cell_type": "code",
   "execution_count": 11,
   "id": "a6beaf62",
   "metadata": {},
   "outputs": [
    {
     "name": "stdout",
     "output_type": "stream",
     "text": [
      "Word counts saved to word_counts.json.\n"
     ]
    }
   ],
   "source": [
    "# read the text file and store its contents in a string variable\n",
    "with open('t8.shakespeare.txt', 'r') as file:\n",
    "    file_contents = file.read()\n",
    "words = file_contents.lower().split()\n",
    "word_counts = {}\n",
    "for word in words:\n",
    "    if word in word_counts:\n",
    "        word_counts[word] += 1\n",
    "    else:\n",
    "        word_counts[word] = 1\n",
    "# save the dictionary to a JSON file\n",
    "with open('word_counts2.json', 'w') as file:\n",
    "    json.dump(word_counts, file)\n",
    "print('Word counts saved to word_counts.json.')\n",
    "with open('t8.shakespeare.txt', 'r') as file:\n",
    "    file_contents = file.read()"
   ]
  },
  {
   "cell_type": "code",
   "execution_count": 12,
   "id": "d7695940",
   "metadata": {},
   "outputs": [
    {
     "name": "stdout",
     "output_type": "stream",
     "text": [
      "Additional whitespace removed and cleaned text saved to cleaned_file.txt.\n"
     ]
    }
   ],
   "source": [
    "# use regular expressions to remove additional whitespace\n",
    "file_contents = re.sub(r'\\s+', ' ', file_contents)\n",
    "with open('cleaned_file.txt', 'w') as file:\n",
    "    file.write(file_contents)\n",
    "print('Additional whitespace removed and cleaned text saved to cleaned_file.txt.')\n",
    "# use regular expressions to remove special characters\n",
    "file_contents = re.sub(r'[^a-zA-Z0-9\\s]+', ' ', file_contents)"
   ]
  },
  {
   "cell_type": "code",
   "execution_count": 13,
   "id": "535cf1bd",
   "metadata": {},
   "outputs": [
    {
     "name": "stdout",
     "output_type": "stream",
     "text": [
      "Special characters removed and cleaned text saved to special character removed.txt.\n"
     ]
    }
   ],
   "source": [
    "# save the cleaned text to a new file\n",
    "with open('special characters removed', 'w') as file:\n",
    "    file.write(file_contents)\n",
    "print('Special characters removed and cleaned text saved to special character removed.txt.')\n",
    "\n"
   ]
  },
  {
   "cell_type": "code",
   "execution_count": null,
   "id": "ff000274",
   "metadata": {},
   "outputs": [],
   "source": []
  }
 ],
 "metadata": {
  "kernelspec": {
   "display_name": "Python 3 (ipykernel)",
   "language": "python",
   "name": "python3"
  },
  "language_info": {
   "codemirror_mode": {
    "name": "ipython",
    "version": 3
   },
   "file_extension": ".py",
   "mimetype": "text/x-python",
   "name": "python",
   "nbconvert_exporter": "python",
   "pygments_lexer": "ipython3",
   "version": "3.11.2"
  }
 },
 "nbformat": 4,
 "nbformat_minor": 5
}
